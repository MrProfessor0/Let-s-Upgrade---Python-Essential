{
  "nbformat": 4,
  "nbformat_minor": 0,
  "metadata": {
    "colab": {
      "name": " Assignment Day 2",
      "provenance": [],
      "collapsed_sections": []
    },
    "kernelspec": {
      "name": "python3",
      "display_name": "Python 3"
    }
  },
  "cells": [
    {
      "cell_type": "markdown",
      "metadata": {
        "id": "srQFSPLPyND3"
      },
      "source": [
        "**Q1) Try 5 Different functions of the String in Python.**\n",
        "For example - index, split function. "
      ]
    },
    {
      "cell_type": "code",
      "metadata": {
        "id": "IBJw0IyHyIRI"
      },
      "source": [
        "#Crearing / Declaring one string.\n",
        "num = \"One Two Three Four Five Six Seven Eight Nine Ten\""
      ],
      "execution_count": 4,
      "outputs": []
    },
    {
      "cell_type": "code",
      "metadata": {
        "colab": {
          "base_uri": "https://localhost:8080/",
          "height": 35
        },
        "id": "HYmV2TqrzzBU",
        "outputId": "77f95187-f8eb-4b68-f417-06312b7f3dc1"
      },
      "source": [
        "# 1) For Strings only first character captilized\n",
        "num.capitalize()"
      ],
      "execution_count": 5,
      "outputs": [
        {
          "output_type": "execute_result",
          "data": {
            "application/vnd.google.colaboratory.intrinsic+json": {
              "type": "string"
            },
            "text/plain": [
              "'One two three four five six seven eight nine ten'"
            ]
          },
          "metadata": {
            "tags": []
          },
          "execution_count": 5
        }
      ]
    },
    {
      "cell_type": "code",
      "metadata": {
        "colab": {
          "base_uri": "https://localhost:8080/",
          "height": 35
        },
        "id": "DgfxdqMo2C79",
        "outputId": "6065743a-4525-47f5-ad91-f7462bc49581"
      },
      "source": [
        "# 2) To print String only samll case letter.\n",
        "num.casefold()"
      ],
      "execution_count": 7,
      "outputs": [
        {
          "output_type": "execute_result",
          "data": {
            "application/vnd.google.colaboratory.intrinsic+json": {
              "type": "string"
            },
            "text/plain": [
              "'one two three four five six seven eight nine ten'"
            ]
          },
          "metadata": {
            "tags": []
          },
          "execution_count": 7
        }
      ]
    },
    {
      "cell_type": "code",
      "metadata": {
        "colab": {
          "base_uri": "https://localhost:8080/",
          "height": 35
        },
        "id": "HYfS288r2Yd5",
        "outputId": "08af814f-05a4-4a1b-d4bf-63f17b634917"
      },
      "source": [
        "# 3) To print center align the string with other character\n",
        "a= num[4]\n",
        "a.center(5,\"0\")"
      ],
      "execution_count": 17,
      "outputs": [
        {
          "output_type": "execute_result",
          "data": {
            "application/vnd.google.colaboratory.intrinsic+json": {
              "type": "string"
            },
            "text/plain": [
              "'00T00'"
            ]
          },
          "metadata": {
            "tags": []
          },
          "execution_count": 17
        }
      ]
    },
    {
      "cell_type": "code",
      "metadata": {
        "colab": {
          "base_uri": "https://localhost:8080/"
        },
        "id": "_MWSGjBQxsCl",
        "outputId": "36877e73-e503-43ca-8241-2e0311a4f6c2"
      },
      "source": [
        "#4) To count specified value number of times appear in string \n",
        "num.count(\"Six\")"
      ],
      "execution_count": 21,
      "outputs": [
        {
          "output_type": "execute_result",
          "data": {
            "text/plain": [
              "1"
            ]
          },
          "metadata": {
            "tags": []
          },
          "execution_count": 21
        }
      ]
    },
    {
      "cell_type": "code",
      "metadata": {
        "colab": {
          "base_uri": "https://localhost:8080/"
        },
        "id": "kqVgSXNiyVWz",
        "outputId": "a6868c5d-e8db-4722-f792-cae2cb87113b"
      },
      "source": [
        "# 5) to print encoded version of string\n",
        "num.encode()"
      ],
      "execution_count": 24,
      "outputs": [
        {
          "output_type": "execute_result",
          "data": {
            "text/plain": [
              "b'One Two Three Four Five Six Seven Eight Nine Ten'"
            ]
          },
          "metadata": {
            "tags": []
          },
          "execution_count": 24
        }
      ]
    },
    {
      "cell_type": "code",
      "metadata": {
        "colab": {
          "base_uri": "https://localhost:8080/",
          "height": 35
        },
        "id": "RkeMqVJyy39i",
        "outputId": "94ab129c-a6f3-4f58-c665-2345df7a16e7"
      },
      "source": [
        "#6) To convert each value first letter in capital\n",
        "num.title()"
      ],
      "execution_count": 26,
      "outputs": [
        {
          "output_type": "execute_result",
          "data": {
            "application/vnd.google.colaboratory.intrinsic+json": {
              "type": "string"
            },
            "text/plain": [
              "'One Two Three Four Five Six Seven Eight Nine Ten'"
            ]
          },
          "metadata": {
            "tags": []
          },
          "execution_count": 26
        }
      ]
    },
    {
      "cell_type": "markdown",
      "metadata": {
        "id": "1_LJI7mgzRK-"
      },
      "source": [
        "Question 2\n",
        "**Try 5 Different functions of the List object in Python**"
      ]
    },
    {
      "cell_type": "code",
      "metadata": {
        "id": "SZ-lP_Ot0QMx"
      },
      "source": [
        "#creating a string\n",
        "list=['a','b','c','d','4','6','7','4.5','Apple','Banana','6.7']"
      ],
      "execution_count": 34,
      "outputs": []
    },
    {
      "cell_type": "code",
      "metadata": {
        "colab": {
          "base_uri": "https://localhost:8080/"
        },
        "id": "nBF6K3Px04o9",
        "outputId": "774e2cf9-28a5-4029-b737-5141b28d8bfd"
      },
      "source": [
        "#1) To add a element in last index of string\n",
        "list.append(\"Watermelon\")\n",
        "list"
      ],
      "execution_count": 35,
      "outputs": [
        {
          "output_type": "execute_result",
          "data": {
            "text/plain": [
              "['a',\n",
              " 'b',\n",
              " 'c',\n",
              " 'd',\n",
              " '4',\n",
              " '6',\n",
              " '7',\n",
              " '4.5',\n",
              " 'Apple',\n",
              " 'Banana',\n",
              " '6.7',\n",
              " 'Watermelon']"
            ]
          },
          "metadata": {
            "tags": []
          },
          "execution_count": 35
        }
      ]
    },
    {
      "cell_type": "code",
      "metadata": {
        "colab": {
          "base_uri": "https://localhost:8080/"
        },
        "id": "K2IzjvfT1vZy",
        "outputId": "e6907d4a-5e30-4dee-9c99-45005b411086"
      },
      "source": [
        "#2) To Sort a list\n",
        "list.sort()\n",
        "list"
      ],
      "execution_count": 38,
      "outputs": [
        {
          "output_type": "execute_result",
          "data": {
            "text/plain": [
              "['4',\n",
              " '4.5',\n",
              " '6',\n",
              " '6.7',\n",
              " '7',\n",
              " 'Apple',\n",
              " 'Banana',\n",
              " 'Watermelon',\n",
              " 'a',\n",
              " 'b',\n",
              " 'c',\n",
              " 'd']"
            ]
          },
          "metadata": {
            "tags": []
          },
          "execution_count": 38
        }
      ]
    },
    {
      "cell_type": "code",
      "metadata": {
        "colab": {
          "base_uri": "https://localhost:8080/"
        },
        "id": "c_2gf0ME1-Be",
        "outputId": "d400c907-9876-4b4d-c4d6-0b9f8d42dd6b"
      },
      "source": [
        "#4) To reverse the order of the list\n",
        "list.reverse()\n",
        "list"
      ],
      "execution_count": 42,
      "outputs": [
        {
          "output_type": "execute_result",
          "data": {
            "text/plain": [
              "['4',\n",
              " '4.5',\n",
              " '6',\n",
              " '6.7',\n",
              " '7',\n",
              " 'Apple',\n",
              " 'Banana',\n",
              " 'Watermelon',\n",
              " 'a',\n",
              " 'b',\n",
              " 'c',\n",
              " 'd']"
            ]
          },
          "metadata": {
            "tags": []
          },
          "execution_count": 42
        }
      ]
    },
    {
      "cell_type": "code",
      "metadata": {
        "colab": {
          "base_uri": "https://localhost:8080/"
        },
        "id": "DhpwyfHF2SIW",
        "outputId": "47cc893c-fdae-41af-e143-9b7ccf0aa524"
      },
      "source": [
        "#5) To print number of index from string of specified element\n",
        "list.index(\"a\")"
      ],
      "execution_count": 61,
      "outputs": [
        {
          "output_type": "execute_result",
          "data": {
            "text/plain": [
              "8"
            ]
          },
          "metadata": {
            "tags": []
          },
          "execution_count": 61
        }
      ]
    },
    {
      "cell_type": "code",
      "metadata": {
        "colab": {
          "base_uri": "https://localhost:8080/"
        },
        "id": "6IPm0UM95o6_",
        "outputId": "8cac047e-8f30-4f16-bb44-81da416a71f3"
      },
      "source": [
        "#6) To remove element from list of particular index\n",
        "list.pop(4)\n",
        "list"
      ],
      "execution_count": 64,
      "outputs": [
        {
          "output_type": "execute_result",
          "data": {
            "text/plain": [
              "['4',\n",
              " '4.5',\n",
              " '6',\n",
              " '6.7',\n",
              " 'Watermelon',\n",
              " 'a',\n",
              " 'b',\n",
              " 'c',\n",
              " 'd',\n",
              " 'One',\n",
              " 'Two',\n",
              " 'Three',\n",
              " 'Four',\n",
              " 'Five',\n",
              " 'Six',\n",
              " 'Seven',\n",
              " 'Eight',\n",
              " 'Nine',\n",
              " 'Ten',\n",
              " 'One',\n",
              " 'Two',\n",
              " 'Three',\n",
              " 'Four',\n",
              " 'Five',\n",
              " 'Six',\n",
              " 'Seven',\n",
              " 'Eight',\n",
              " 'Nine',\n",
              " 'Ten',\n",
              " 'One',\n",
              " 'Two',\n",
              " 'Three',\n",
              " 'Four',\n",
              " 'Five',\n",
              " 'Six',\n",
              " 'Seven',\n",
              " 'Eight',\n",
              " 'Nine',\n",
              " 'Ten',\n",
              " 'One',\n",
              " 'Two',\n",
              " 'Three',\n",
              " 'Four',\n",
              " 'Five',\n",
              " 'Six',\n",
              " 'Seven',\n",
              " 'Eight',\n",
              " 'Nine',\n",
              " 'Ten']"
            ]
          },
          "metadata": {
            "tags": []
          },
          "execution_count": 64
        }
      ]
    },
    {
      "cell_type": "markdown",
      "metadata": {
        "id": "OHGzfZNf6Yfd"
      },
      "source": [
        "Q3)\n",
        "**Experiment with at least 5 default functions of Dictionary**"
      ]
    },
    {
      "cell_type": "code",
      "metadata": {
        "id": "Sj3s2hDs6s8f"
      },
      "source": [
        "# Creating a Dictionary\n",
        "d={ 1:\"comp\", 2:\"Mech\", 3:\"Civil\", 4:\"Checmical\", 5:\"Electrical\", 6:\"Electronics\" }"
      ],
      "execution_count": 67,
      "outputs": []
    },
    {
      "cell_type": "code",
      "metadata": {
        "colab": {
          "base_uri": "https://localhost:8080/"
        },
        "id": "S3mu3AKM7pIo",
        "outputId": "333bc36e-35a1-475d-948f-2bcf4852c134"
      },
      "source": [
        "# 1) To Print sepretae only keys and values \n",
        "print(\"\",d.keys())\n",
        "print(\"\",d.values())"
      ],
      "execution_count": 73,
      "outputs": [
        {
          "output_type": "stream",
          "text": [
            " dict_keys([1, 2, 3, 4, 5, 6])\n",
            " dict_values(['comp', 'Mech', 'Civil', 'Checmical', 'Electrical', 'Electronics'])\n"
          ],
          "name": "stdout"
        }
      ]
    },
    {
      "cell_type": "code",
      "metadata": {
        "colab": {
          "base_uri": "https://localhost:8080/"
        },
        "id": "V2os6t5J8ZsM",
        "outputId": "978e6c28-a8d3-4840-9250-b3a0afdee400"
      },
      "source": [
        "# 2) To Add element in dict\n",
        "d.update({7 : \"Biotech\"})\n",
        "d"
      ],
      "execution_count": 93,
      "outputs": [
        {
          "output_type": "execute_result",
          "data": {
            "text/plain": [
              "{1: 'comp',\n",
              " 2: 'Mech',\n",
              " 3: 'Civil',\n",
              " 4: 'Checmical',\n",
              " 5: 'Electrical',\n",
              " 6: 'Electronics',\n",
              " 7: 'Biotech'}"
            ]
          },
          "metadata": {
            "tags": []
          },
          "execution_count": 93
        }
      ]
    },
    {
      "cell_type": "code",
      "metadata": {
        "colab": {
          "base_uri": "https://localhost:8080/",
          "height": 35
        },
        "id": "WsxYqAr89eYS",
        "outputId": "cc8b064c-c311-472e-f855-c36ceea0c721"
      },
      "source": [
        "# 3) To return a value of specified keys\n",
        "d.get(5)"
      ],
      "execution_count": 99,
      "outputs": [
        {
          "output_type": "execute_result",
          "data": {
            "application/vnd.google.colaboratory.intrinsic+json": {
              "type": "string"
            },
            "text/plain": [
              "'Electrical'"
            ]
          },
          "metadata": {
            "tags": []
          },
          "execution_count": 99
        }
      ]
    },
    {
      "cell_type": "code",
      "metadata": {
        "colab": {
          "base_uri": "https://localhost:8080/"
        },
        "id": "FtPlW0Sy90Yy",
        "outputId": "fc4068c9-269e-445f-e8e8-c12f58a7f81f"
      },
      "source": [
        "# 4) To copy a dict\n",
        "d1 = d.copy()\n",
        "d1"
      ],
      "execution_count": 105,
      "outputs": [
        {
          "output_type": "execute_result",
          "data": {
            "text/plain": [
              "{1: 'comp',\n",
              " 2: 'Mech',\n",
              " 3: 'Civil',\n",
              " 4: 'Checmical',\n",
              " 5: 'Electrical',\n",
              " 6: 'Electronics',\n",
              " 7: 'Biotech'}"
            ]
          },
          "metadata": {
            "tags": []
          },
          "execution_count": 105
        }
      ]
    },
    {
      "cell_type": "code",
      "metadata": {
        "colab": {
          "base_uri": "https://localhost:8080/"
        },
        "id": "KPn273uX_XDg",
        "outputId": "6beacb73-b26b-46e3-a2c9-5b98b31b88ef"
      },
      "source": [
        "# 5) To clear a dict\n",
        "d.clear()\n",
        "d"
      ],
      "execution_count": 106,
      "outputs": [
        {
          "output_type": "execute_result",
          "data": {
            "text/plain": [
              "{}"
            ]
          },
          "metadata": {
            "tags": []
          },
          "execution_count": 106
        }
      ]
    }
  ]
}