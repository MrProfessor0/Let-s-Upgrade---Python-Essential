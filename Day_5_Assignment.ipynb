{
  "nbformat": 4,
  "nbformat_minor": 0,
  "metadata": {
    "colab": {
      "name": "Day 5 Assignment",
      "provenance": [],
      "collapsed_sections": []
    },
    "kernelspec": {
      "name": "python3",
      "display_name": "Python 3"
    }
  },
  "cells": [
    {
      "cell_type": "markdown",
      "metadata": {
        "id": "MpFhpkHKsSmG"
      },
      "source": [
        "Q1) **Do the project - Develop a cryptography app in python and Upload it in Github**"
      ]
    },
    {
      "cell_type": "code",
      "metadata": {
        "colab": {
          "base_uri": "https://localhost:8080/"
        },
        "id": "SXLbXQEbsPAM",
        "outputId": "1551cfc8-a3dd-4951-a956-5b12930adac2"
      },
      "source": [
        "!pip install cryptography"
      ],
      "execution_count": null,
      "outputs": [
        {
          "output_type": "stream",
          "text": [
            "Requirement already satisfied: cryptography in /usr/local/lib/python3.6/dist-packages (3.3.1)\n",
            "Requirement already satisfied: cffi>=1.12 in /usr/local/lib/python3.6/dist-packages (from cryptography) (1.14.4)\n",
            "Requirement already satisfied: six>=1.4.1 in /usr/local/lib/python3.6/dist-packages (from cryptography) (1.15.0)\n",
            "Requirement already satisfied: pycparser in /usr/local/lib/python3.6/dist-packages (from cffi>=1.12->cryptography) (2.20)\n"
          ],
          "name": "stdout"
        }
      ]
    },
    {
      "cell_type": "code",
      "metadata": {
        "id": "zCbC0vTasaHU"
      },
      "source": [
        "from cryptography.fernet import Fernet"
      ],
      "execution_count": 60,
      "outputs": []
    },
    {
      "cell_type": "code",
      "metadata": {
        "id": "zBZHTHzLso_q"
      },
      "source": [
        "# Creating a function to generate a passkey\n",
        "def generateKey():\n",
        "  key= Fernet.generate_key()\n",
        "  print(key)\n",
        "  print(type(key))\n",
        "  a=open(\"Password.key\",'wb')\n",
        "  a.write(key)\n",
        "  a.close()"
      ],
      "execution_count": 61,
      "outputs": []
    },
    {
      "cell_type": "code",
      "metadata": {
        "colab": {
          "base_uri": "https://localhost:8080/"
        },
        "id": "RCK1u6catCeh",
        "outputId": "4d5d07ba-2b38-47b9-baa5-09dc2186e2dd"
      },
      "source": [
        "generateKey()"
      ],
      "execution_count": 62,
      "outputs": [
        {
          "output_type": "stream",
          "text": [
            "b'0MIVXpJzV8NtabZyaw__DQjJpn3IZS6fUPM-RoN4dmw='\n",
            "<class 'bytes'>\n"
          ],
          "name": "stdout"
        }
      ]
    },
    {
      "cell_type": "code",
      "metadata": {
        "colab": {
          "base_uri": "https://localhost:8080/"
        },
        "id": "XbL18Zz7tmW_",
        "outputId": "b5dff878-c13e-4062-80b9-4e2889273676"
      },
      "source": [
        "# craeting a fuction to read a key\n",
        "def getMyKey():\n",
        "  a=open(\"Password.key\",'rb')\n",
        "  return a.read()\n",
        "\n",
        "getMyKey()"
      ],
      "execution_count": 64,
      "outputs": [
        {
          "output_type": "execute_result",
          "data": {
            "text/plain": [
              "b'0MIVXpJzV8NtabZyaw__DQjJpn3IZS6fUPM-RoN4dmw='"
            ]
          },
          "metadata": {
            "tags": []
          },
          "execution_count": 64
        }
      ]
    },
    {
      "cell_type": "code",
      "metadata": {
        "colab": {
          "base_uri": "https://localhost:8080/",
          "height": 52
        },
        "id": "wiEjKGuh2IdP",
        "outputId": "4963f5f6-b549-4112-a970-89dad474d821"
      },
      "source": [
        "#Creating a Function for getting a Content from user.\n",
        "def getContentFromUser():\n",
        "  return input(\"Enter the content you want to encrypt\")\n",
        "\n",
        "getContentFromUser()"
      ],
      "execution_count": 70,
      "outputs": [
        {
          "output_type": "stream",
          "text": [
            "Enter the content you want to encrypthi\n"
          ],
          "name": "stdout"
        },
        {
          "output_type": "execute_result",
          "data": {
            "application/vnd.google.colaboratory.intrinsic+json": {
              "type": "string"
            },
            "text/plain": [
              "'hi'"
            ]
          },
          "metadata": {
            "tags": []
          },
          "execution_count": 70
        }
      ]
    },
    {
      "cell_type": "code",
      "metadata": {
        "colab": {
          "base_uri": "https://localhost:8080/"
        },
        "id": "n3nyaHHI2Pmd",
        "outputId": "0e494ffc-7a20-4e89-b143-3786ca10f43c"
      },
      "source": [
        "# Creating a Function for encrypting a message\n",
        "def encryptMessage(message_normanl):\n",
        "  key= getMyKey()\n",
        "  k= Fernet(key)\n",
        "  encrypted_Message= k.encrypt(message_normanl)\n",
        "  return encrypted_Message\n",
        "  \n",
        "encryptMessage(b\"hi\")"
      ],
      "execution_count": 73,
      "outputs": [
        {
          "output_type": "execute_result",
          "data": {
            "text/plain": [
              "b'gAAAAABf30S3uYwUw5M-wnT8NVCjkEsvYNnSagun8w29Dd-HdEOpqOE0JOlBWZ8V0u9H_k08OXSxxKOf-vID0h0NYW0RblKctA=='"
            ]
          },
          "metadata": {
            "tags": []
          },
          "execution_count": 73
        }
      ]
    },
    {
      "cell_type": "code",
      "metadata": {
        "id": "O2PF4wwd2h1Z"
      },
      "source": [
        "# Creating a function for a decrypting a message\n",
        "def decryptMessage(message_secret):\n",
        "  key= getMyKey()\n",
        "  k= Fernet(key)\n",
        "  decrypted_Message=k.decrypt(message_secret)\n",
        "  return decrypted_Message"
      ],
      "execution_count": 75,
      "outputs": []
    },
    {
      "cell_type": "code",
      "metadata": {
        "colab": {
          "base_uri": "https://localhost:8080/"
        },
        "id": "yCzhAWUOJLid",
        "outputId": "75b8fe60-482e-4bbe-a189-d2afb69260e6"
      },
      "source": [
        "decryptMessage(b'gAAAAABf30S3uYwUw5M-wnT8NVCjkEsvYNnSagun8w29Dd-HdEOpqOE0JOlBWZ8V0u9H_k08OXSxxKOf-vID0h0NYW0RblKctA==')"
      ],
      "execution_count": 76,
      "outputs": [
        {
          "output_type": "execute_result",
          "data": {
            "text/plain": [
              "b'hi'"
            ]
          },
          "metadata": {
            "tags": []
          },
          "execution_count": 76
        }
      ]
    }
  ]
}