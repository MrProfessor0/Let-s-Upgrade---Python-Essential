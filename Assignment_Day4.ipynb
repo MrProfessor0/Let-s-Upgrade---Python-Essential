{
  "nbformat": 4,
  "nbformat_minor": 0,
  "metadata": {
    "colab": {
      "name": "Assignment Day4.ipynb",
      "provenance": [],
      "collapsed_sections": []
    },
    "kernelspec": {
      "name": "python3",
      "display_name": "Python 3"
    }
  },
  "cells": [
    {
      "cell_type": "markdown",
      "metadata": {
        "id": "X3VmLovI-x63"
      },
      "source": [
        "**Question 1\n",
        "Write down a program in Python for Opening a File and Writing \" I Love LetsUpgrade\" And close\n",
        "it, and read it back again, and then append some data to it and close it.**"
      ]
    },
    {
      "cell_type": "code",
      "metadata": {
        "id": "yizSHBbj90_r"
      },
      "source": [
        "file = open(\"text.txt\",'w')\n",
        "file.write(\"I Love Let's Upgrade. \")\n",
        "file.close()"
      ],
      "execution_count": 11,
      "outputs": []
    },
    {
      "cell_type": "code",
      "metadata": {
        "colab": {
          "base_uri": "https://localhost:8080/"
        },
        "id": "GrROW3K2AgV_",
        "outputId": "15a1775d-535b-419b-ba3f-7f7923fc7d6c"
      },
      "source": [
        "file=open(\"text.txt\",'r')\n",
        "print(file.read())\n",
        "file.close()"
      ],
      "execution_count": 12,
      "outputs": [
        {
          "output_type": "stream",
          "text": [
            "I Love Let's Upgrade. \n"
          ],
          "name": "stdout"
        }
      ]
    },
    {
      "cell_type": "code",
      "metadata": {
        "colab": {
          "base_uri": "https://localhost:8080/"
        },
        "id": "9R-cE4ilBCJ1",
        "outputId": "85d0169e-e64d-4b96-b1ef-211dff14f733"
      },
      "source": [
        "file=open(\"text.txt\",'a')\n",
        "file.write(\" Beacuse they provide awesome content\")\n",
        "file.close()\n",
        "\n",
        "file=open(\"text.txt\",'r')\n",
        "print(file.read())\n",
        "file.close()"
      ],
      "execution_count": 13,
      "outputs": [
        {
          "output_type": "stream",
          "text": [
            "I Love Let's Upgrade.  Beacuse they provide awesome content\n"
          ],
          "name": "stdout"
        }
      ]
    },
    {
      "cell_type": "markdown",
      "metadata": {
        "id": "w46eZcl6C3it"
      },
      "source": [
        "**Q2) Write a function which can return a Factorial of any numbers as INT, given in the argument.**"
      ]
    },
    {
      "cell_type": "code",
      "metadata": {
        "id": "nFSmXc13C9v7"
      },
      "source": [
        "def fact():\n",
        "  a=int(input(\"Enter the Integer that you want factorial\"))\n",
        "  fact=1\n",
        "  for b in range(1,a+1):\n",
        "    fact=fact*b\n",
        "  print(\"The factorial is\",fact)"
      ],
      "execution_count": 17,
      "outputs": []
    },
    {
      "cell_type": "code",
      "metadata": {
        "colab": {
          "base_uri": "https://localhost:8080/"
        },
        "id": "OFgGBYLLEK79",
        "outputId": "35b85bde-f10a-4c04-889c-69490ea6991b"
      },
      "source": [
        "fact()"
      ],
      "execution_count": 19,
      "outputs": [
        {
          "output_type": "stream",
          "text": [
            "Enter the Integer that you want factorial5\n",
            "The factorial is 120\n"
          ],
          "name": "stdout"
        }
      ]
    }
  ]
}