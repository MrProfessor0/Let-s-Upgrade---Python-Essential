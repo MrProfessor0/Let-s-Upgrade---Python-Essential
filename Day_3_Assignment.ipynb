{
  "nbformat": 4,
  "nbformat_minor": 0,
  "metadata": {
    "colab": {
      "name": "Day 3 Assignment",
      "provenance": [],
      "collapsed_sections": []
    },
    "kernelspec": {
      "name": "python3",
      "display_name": "Python 3"
    }
  },
  "cells": [
    {
      "cell_type": "markdown",
      "metadata": {
        "id": "juXrOOdtSDMf"
      },
      "source": [
        "Q1)\n",
        "**Use IF ELSE and ELIF to write a program in python for your Report Cards.**"
      ]
    },
    {
      "cell_type": "code",
      "metadata": {
        "id": "WcqeSI-DR9FY",
        "colab": {
          "base_uri": "https://localhost:8080/"
        },
        "outputId": "543d6baa-c8bc-4223-e918-82b19a91d4f1"
      },
      "source": [
        "marks = int(input(\"Enter the Marks \"))\n",
        "\n",
        "if marks > 60 and marks <= 100 :\n",
        "  print(\"Students got a 'A' Grade\")\n",
        "elif marks <= 60 and marks > 40 :\n",
        "  print(\"Students got a 'B' Grade\")\n",
        "elif marks <= 40 and marks > 20 :\n",
        "  print(\"Students got a 'C' Grade\")\n",
        "elif marks <= 20 and marks > 0:\n",
        "  print(\"Students got a 'D' Grade\")"
      ],
      "execution_count": null,
      "outputs": [
        {
          "output_type": "stream",
          "text": [
            "Enter the Marks 45\n",
            "Students got a 'B' Grade\n"
          ],
          "name": "stdout"
        }
      ]
    },
    {
      "cell_type": "markdown",
      "metadata": {
        "id": "tOzN3sc6ZR8v"
      },
      "source": [
        "Q2)**Use For Loop to Print Prime Numbers in between 1 to 1000**"
      ]
    },
    {
      "cell_type": "code",
      "metadata": {
        "id": "I7NWUBHdZiqj"
      },
      "source": [
        "for a in range (1,1001):\n",
        "  if a==2:\n",
        "      print(\"This is a prime Number:\",a)\n",
        "  for b in range (2,a):\n",
        "    if a%b == 0:\n",
        "      break\n",
        "    elif b :\n",
        "      print(\"This is a Prime Number:\",a)\n",
        "      break"
      ],
      "execution_count": null,
      "outputs": []
    },
    {
      "cell_type": "markdown",
      "metadata": {
        "id": "3qFvvZkvaNb-"
      },
      "source": [
        "Q3) **Write a program for printing the tables from 1,10 using Nested For Loop**"
      ]
    },
    {
      "cell_type": "code",
      "metadata": {
        "id": "wtEy521Fahvt"
      },
      "source": [
        "for a in range(1,11):\n",
        "  print(\"The table of\",a)\n",
        "  for b in range(1,11):\n",
        "    print(a,\"*\",b,\"=\",a*b)\n",
        "  print(\"\\n\")"
      ],
      "execution_count": null,
      "outputs": []
    },
    {
      "cell_type": "markdown",
      "metadata": {
        "id": "Ar0Cre_AcWzq"
      },
      "source": [
        "Q4) **Write a program to Print X Prime Numbers using While Loop starting from 0, and take the INput of X from the user**"
      ]
    },
    {
      "cell_type": "code",
      "metadata": {
        "colab": {
          "base_uri": "https://localhost:8080/"
        },
        "id": "A2g9CtQYcV-7",
        "outputId": "96c9de01-7b3b-4deb-9575-e27e70c43599"
      },
      "source": [
        "       x = int(input(\"Enter the Numbers range to find Prime Number\"))\n",
        "a=0\n",
        "\n",
        "while a<=x:\n",
        "  if a==2 :\n",
        "    print(\"This is a Prime Number:\",a)\n",
        "  b=2\n",
        "  while b<a:\n",
        "    if (a%b == 0) :\n",
        "      break\n",
        "    elif b:\n",
        "      print(\"This is a Prime Number:\",a)\n",
        "      break\n",
        "    b+=1\n",
        "  a+=1"
      ],
      "execution_count": 83,
      "outputs": [
        {
          "output_type": "stream",
          "text": [
            "Enter the Numbers range to find Prime Number10\n",
            "This is a Prime Number: 2\n",
            "This is a Prime Number: 3\n",
            "This is a Prime Number: 5\n",
            "This is a Prime Number: 7\n",
            "This is a Prime Number: 9\n"
          ],
          "name": "stdout"
        }
      ]
    }
  ]
}